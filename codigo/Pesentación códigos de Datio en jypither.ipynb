{
 "cells": [
  {
   "cell_type": "code",
   "execution_count": 1,
   "metadata": {},
   "outputs": [
    {
     "data": {
      "text/plain": [
       "Intitializing Scala interpreter ..."
      ]
     },
     "metadata": {},
     "output_type": "display_data"
    },
    {
     "data": {
      "text/plain": [
       "Spark Web UI available at http://172.16.80.69:4040\n",
       "SparkContext available as 'sc' (version = 2.4.4, master = local[*], app id = local-1571510277361)\n",
       "SparkSession available as 'spark'\n"
      ]
     },
     "metadata": {},
     "output_type": "display_data"
    },
    {
     "data": {
      "text/plain": [
       "res0: Int = 2\n"
      ]
     },
     "execution_count": 1,
     "metadata": {},
     "output_type": "execute_result"
    }
   ],
   "source": [
    "1+1"
   ]
  },
  {
   "cell_type": "code",
   "execution_count": 2,
   "metadata": {},
   "outputs": [
    {
     "name": "stdout",
     "output_type": "stream",
     "text": [
      "3\n",
      "Scala means Scalable\n"
     ]
    }
   ],
   "source": [
    "println(1+2)\n",
    "println(\"Scala means Scalable\")"
   ]
  },
  {
   "cell_type": "code",
   "execution_count": 4,
   "metadata": {},
   "outputs": [
    {
     "data": {
      "text/plain": [
       "num: Int = 255\n",
       "hexNum: Int = 255\n",
       "longValue: Long = 1\n",
       "doubleValue: Double = 3.1416\n",
       "floatValue: Float = 1.6164\n"
      ]
     },
     "execution_count": 4,
     "metadata": {},
     "output_type": "execute_result"
    }
   ],
   "source": [
    "//Integers\n",
    "val num: Int = 255\n",
    "val hexNum: Int = 0x00FF\n",
    "//Longs\n",
    "val longValue: Long = 1L\n",
    "//Doubles\n",
    "val doubleValue: Double = 3.1416\n",
    "//Floats\n",
    "val floatValue:Float = 1.6164f"
   ]
  },
  {
   "cell_type": "code",
   "execution_count": 9,
   "metadata": {},
   "outputs": [
    {
     "data": {
      "text/plain": [
       "floatValue: Float = 33.0\n"
      ]
     },
     "execution_count": 9,
     "metadata": {},
     "output_type": "execute_result"
    }
   ],
   "source": [
    "\n",
    "//val num: Int = \"hola\"\n",
    "//val intValue: Int = 33.3\n",
    "//val longValue : Long = 33\n",
    "//val longValue : Long = 33.3\n",
    "val floatValue: Float = 33"
   ]
  },
  {
   "cell_type": "code",
   "execution_count": 10,
   "metadata": {},
   "outputs": [
    {
     "data": {
      "text/plain": [
       "y: Int = 5\n"
      ]
     },
     "execution_count": 10,
     "metadata": {},
     "output_type": "execute_result"
    }
   ],
   "source": [
    "var y=5"
   ]
  },
  {
   "cell_type": "code",
   "execution_count": 11,
   "metadata": {},
   "outputs": [
    {
     "data": {
      "text/plain": [
       "y: Int = 6\n"
      ]
     },
     "execution_count": 11,
     "metadata": {},
     "output_type": "execute_result"
    }
   ],
   "source": [
    "y=6"
   ]
  },
  {
   "cell_type": "code",
   "execution_count": 12,
   "metadata": {},
   "outputs": [
    {
     "data": {
      "text/plain": [
       "res3: Int = 7\n"
      ]
     },
     "execution_count": 12,
     "metadata": {},
     "output_type": "execute_result"
    }
   ],
   "source": [
    "1+2*3"
   ]
  },
  {
   "cell_type": "code",
   "execution_count": 14,
   "metadata": {},
   "outputs": [
    {
     "name": "stdout",
     "output_type": "stream",
     "text": [
      "5\n",
      "4\n"
     ]
    }
   ],
   "source": [
    "println(3+3*2/3)\n",
    "println((3+3)*2/3)"
   ]
  },
  {
   "cell_type": "code",
   "execution_count": 15,
   "metadata": {},
   "outputs": [
    {
     "name": "stdout",
     "output_type": "stream",
     "text": [
      "Pi approx val is: \n",
      " 3.1416!The area of a circle with radius 4 its approx = 50.27"
     ]
    },
    {
     "data": {
      "text/plain": [
       "doubleValue: Double = 3.1416\n",
       "radius: Int = 4\n",
       "message: String =\n",
       "Pi approx val is:\n",
       " 3.1416!\n",
       "rawMessage: String = Pi approx val is: \\n 3.1416!\n",
       "prefixMessage: String = The area of a circle with radius 4\n",
       "areaMessage: String = \" its approx = 50.27\"\n"
      ]
     },
     "execution_count": 15,
     "metadata": {},
     "output_type": "execute_result"
    }
   ],
   "source": [
    "val doubleValue = 3.1416\n",
    "val radius = 4\n",
    "val message = s\"Pi approx val is: \\n $doubleValue!\"  // la s inicial permite que la cadena interprete variables \n",
    "        //y caracteres especiales\n",
    "\n",
    "val rawMessage = raw\"Pi approx val is: \\n $doubleValue!\"  //raw al inicio te permite ejecutar casteos variables \n",
    "        //por su data pero no interpreta \\n lo toma como caracter\n",
    "\n",
    "val prefixMessage = s\"The area of a circle with radius $radius\"\n",
    "\n",
    "val areaMessage = f\" its approx = ${radius*radius*doubleValue}%.2f\" // con la f al inicio te permite realizar \n",
    "            // calculos funciona con las otras también pero con la f te permite manipular a nivel de float \n",
    "            //presición\n",
    "\n",
    "print(message)\n",
    "\n",
    "print(prefixMessage+areaMessage)\n"
   ]
  },
  {
   "cell_type": "code",
   "execution_count": 30,
   "metadata": {},
   "outputs": [
    {
     "data": {
      "text/plain": [
       "message: String =\n",
       "Pi approx val is:\n",
       " 16%2f\n"
      ]
     },
     "execution_count": 30,
     "metadata": {},
     "output_type": "execute_result"
    }
   ],
   "source": [
    "val message = s\"Pi approx val is: \\n ${radius*radius}%2f\""
   ]
  },
  {
   "cell_type": "code",
   "execution_count": 31,
   "metadata": {},
   "outputs": [
    {
     "data": {
      "text/plain": [
       "cade1: String = hola\n",
       "cade2: String = mundo\n"
      ]
     },
     "execution_count": 31,
     "metadata": {},
     "output_type": "execute_result"
    }
   ],
   "source": [
    "var cade1=\"hola\"\n",
    "var cade2=\"mundo\""
   ]
  },
  {
   "cell_type": "code",
   "execution_count": 34,
   "metadata": {},
   "outputs": [
    {
     "data": {
      "text/plain": [
       "res9: String = hola mundo\n"
      ]
     },
     "execution_count": 34,
     "metadata": {},
     "output_type": "execute_result"
    }
   ],
   "source": [
    "cade1+\" \"+cade2"
   ]
  },
  {
   "cell_type": "code",
   "execution_count": 35,
   "metadata": {},
   "outputs": [
    {
     "name": "stdout",
     "output_type": "stream",
     "text": [
      "Bool1=true & bool2=false is: false\n",
      "Bool1=true | bool2=false is: false\n",
      "Not Bool1=true is: false\n"
     ]
    },
    {
     "data": {
      "text/plain": [
       "bool1: Boolean = true\n",
       "bool2: Boolean = false\n"
      ]
     },
     "execution_count": 35,
     "metadata": {},
     "output_type": "execute_result"
    }
   ],
   "source": [
    "val bool1 = true\n",
    "val bool2 = false\n",
    "// si colocas expresiones con variables dentro de llaves y a las llaves las anteceden $ se toma en cuenta como\n",
    "// una operación entre variables \n",
    "\n",
    "println(s\"Bool1=$bool1 & bool2=$bool2 is: ${bool2 & bool2}\" // al igual de arriba puedes anteponer s, raw o f para\n",
    "                //que la impresión se ópere bajo ciertos procesos\n",
    ")\n",
    "println(s\"Bool1=$bool1 | bool2=$bool2 is: ${bool2 | bool2}\"\n",
    ")\n",
    "println(s\"Not Bool1=$bool1 is: ${!bool1}\")"
   ]
  },
  {
   "cell_type": "code",
   "execution_count": 39,
   "metadata": {},
   "outputs": [
    {
     "data": {
      "text/plain": [
       "r: String = 42\n"
      ]
     },
     "execution_count": 39,
     "metadata": {},
     "output_type": "execute_result"
    }
   ],
   "source": [
    "val r=  42.\n",
    "toString()"
   ]
  },
  {
   "cell_type": "code",
   "execution_count": 40,
   "metadata": {},
   "outputs": [
    {
     "data": {
      "text/plain": [
       "r: String = 42\n"
      ]
     },
     "execution_count": 40,
     "metadata": {},
     "output_type": "execute_result"
    }
   ],
   "source": [
    "val r= 42    //las llamadas a función se pueden ir concatenando a través de lineas pues se consedera una sola \n",
    "            // expresión ... ya sea de inicio o de fin... el programa lee todo y luego compila.\n",
    ".toString()"
   ]
  },
  {
   "cell_type": "code",
   "execution_count": 44,
   "metadata": {},
   "outputs": [
    {
     "data": {
      "text/plain": [
       "res15: Int = 259\n"
      ]
     },
     "execution_count": 44,
     "metadata": {},
     "output_type": "execute_result"
    }
   ],
   "source": [
    "(num+\n",
    " \n",
    " radius)\n",
    "// el fin de linea se define como el punto en donde terminan los parentesis o llaves o corchetes \n",
    "// si no cuenta con ningun separador como los mencionados se asume que la linea es completa \n",
    "\n",
    "num+\n",
    " \n",
    " radius"
   ]
  },
  {
   "cell_type": "code",
   "execution_count": 46,
   "metadata": {},
   "outputs": [
    {
     "ename": "<console>",
     "evalue": "26: error: value println is not a member of String",
     "output_type": "error",
     "traceback": [
      "<console>:26: error: value println is not a member of String",
      "       val s = \"hello\" println(s)",
      "                       ^",
      ""
     ]
    }
   ],
   "source": [
    "val s = \"hello\"; println(s) // si es una sola linea diferentes instrucciones se requiere separar por ;\n",
    "    //si no intenta que todo el renglón se compile "
   ]
  },
  {
   "cell_type": "code",
   "execution_count": null,
   "metadata": {},
   "outputs": [],
   "source": [
    "val //variable de tipo inmutable es decir que una vez declarada no es posible cambiar su valor \n",
    "\n",
    "var //vaviable mutable es decir a lo largo del programa puede ir tomando diferentes valores \n",
    "            //pero recordar que solo se le puede asignar valores del mismo tipo del que se definio !=python"
   ]
  },
  {
   "cell_type": "code",
   "execution_count": 48,
   "metadata": {},
   "outputs": [
    {
     "ename": "<console>",
     "evalue": "27: error: type mismatch;",
     "output_type": "error",
     "traceback": [
      "<console>:27: error: type mismatch;",
      " found   : Double(1.1)",
      " required: Int",
      "       x=1.1",
      "         ^",
      ""
     ]
    }
   ],
   "source": [
    "var x=1\n",
    "x=1.1"
   ]
  },
  {
   "cell_type": "code",
   "execution_count": 49,
   "metadata": {},
   "outputs": [
    {
     "ename": "<console>",
     "evalue": "2: error: illegal character '\\u2018'",
     "output_type": "error",
     "traceback": [
      "<console>:2: error: illegal character '\\u2018'",
      "val ‘msg1‘ = \"Hello\";",
      "    ^",
      "<console>:2: error: illegal character '\\u2018'",
      "val ‘msg1‘ = \"Hello\";",
      "         ^",
      "<console>:2: error: '=' expected but ';' found.",
      "val ‘msg1‘ = \"Hello\";",
      "                    ^",
      "<console>:3: error: illegal character '\\u2018'",
      "val ‘msg2‘ = \"World!\"",
      "    ^",
      "<console>:3: error: illegal character '\\u2018'",
      "val ‘msg2‘ = \"World!\"",
      "         ^",
      "<console>:4: error: '=' expected but ';' found.",
      "println(‘msg1‘ + \" \" + ‘msg2‘);",
      "^",
      "<console>:4: error: illegal character '\\u2018'",
      "println(‘msg1‘ + \" \" + ‘msg2‘);",
      "        ^",
      "<console>:4: error: illegal character '\\u2018'",
      "println(‘msg1‘ + \" \" + ‘msg2‘);",
      "             ^",
      "<console>:4: error: illegal character '\\u2018'",
      "println(‘msg1‘ + \" \" + ‘msg2‘);",
      "                       ^",
      "<console>:4: error: illegal character '\\u2018'",
      "println(‘msg1‘ + \" \" + ‘msg2‘);",
      "                            ^",
      ""
     ]
    }
   ],
   "source": [
    "val ‘msg1‘ = \"Hello\";\n",
    "val ‘msg2‘ = \"World!\"\n",
    "println(‘msg1‘ + \" \" + ‘msg2‘);  // en teoría deberian de ser correctos declarar una variable así pero en\n",
    "                                        //jupyther truena pero en teoría es correcto"
   ]
  },
  {
   "cell_type": "code",
   "execution_count": 50,
   "metadata": {},
   "outputs": [
    {
     "name": "stdout",
     "output_type": "stream",
     "text": [
      "3\n"
     ]
    },
    {
     "data": {
      "text/plain": [
       "a: Int = 1\n",
       "b: Int = 2\n",
       "answer: Int = 3\n"
      ]
     },
     "execution_count": 50,
     "metadata": {},
     "output_type": "execute_result"
    }
   ],
   "source": [
    "val a = 1\n",
    "val b = 2\n",
    "val answer = a + b\n",
    "println(answer)"
   ]
  },
  {
   "cell_type": "code",
   "execution_count": 51,
   "metadata": {},
   "outputs": [
    {
     "ename": "<console>",
     "evalue": "29: error: reassignment to val",
     "output_type": "error",
     "traceback": [
      "<console>:29: error: reassignment to val",
      "       a = a + b",
      "         ^",
      ""
     ]
    }
   ],
   "source": [
    "val a = 1\n",
    "val b = 2\n",
    "a = a + b   // truena porque a es de tipo inmutable es decir solo puede tomar valor una vez\n",
    "println(a)"
   ]
  },
  {
   "cell_type": "code",
   "execution_count": 52,
   "metadata": {},
   "outputs": [
    {
     "name": "stdout",
     "output_type": "stream",
     "text": [
      "3\n"
     ]
    },
    {
     "data": {
      "text/plain": [
       "c: Int = 3\n",
       "d: Int = 2\n",
       "c: Int = 3\n"
      ]
     },
     "execution_count": 52,
     "metadata": {},
     "output_type": "execute_result"
    }
   ],
   "source": [
    "var c = 1\n",
    "val d = 2\n",
    "c = c + d\n",
    "println(c)   //esta ves si funciona ya que c es de tipo mutable por tanto puede tomar otro valor es decir se pierde\n",
    "            // el primer valor"
   ]
  },
  {
   "cell_type": "markdown",
   "metadata": {},
   "source": [
    "## ------------------------------ENTRAMOS EN TEMAS DE FUNCIONES ----------------------------------------------"
   ]
  },
  {
   "cell_type": "code",
   "execution_count": 55,
   "metadata": {},
   "outputs": [
    {
     "ename": "<console>",
     "evalue": "25: error: not found: type functionResultType",
     "output_type": "error",
     "traceback": [
      "<console>:25: error: not found: type functionResultType",
      "           functionResultType = { FunctionBody }",
      "           ^",
      "<console>:24: error: not found: type paramType",
      "       def functionIdentifier(paramIdentifier : paramType):",
      "                                                ^",
      "<console>:25: error: not found: value FunctionBody",
      "           functionResultType = { FunctionBody }",
      "                                  ^",
      ""
     ]
    }
   ],
   "source": [
    "def functionIdentifier(paramIdentifier : paramType):\n",
    "    functionResultType = { FunctionBody }"
   ]
  },
  {
   "cell_type": "code",
   "execution_count": 58,
   "metadata": {},
   "outputs": [
    {
     "data": {
      "text/plain": [
       "circleArea: (radius: Double)Double\n"
      ]
     },
     "execution_count": 58,
     "metadata": {},
     "output_type": "execute_result"
    }
   ],
   "source": [
    "def circleArea(radius: Double):Double={radius*radius *3.141632} //definiendo una función\n"
   ]
  },
  {
   "cell_type": "code",
   "execution_count": 59,
   "metadata": {},
   "outputs": [
    {
     "data": {
      "text/plain": [
       "radius: Int = 4\n"
      ]
     },
     "execution_count": 59,
     "metadata": {},
     "output_type": "execute_result"
    }
   ],
   "source": [
    "val radius = 4\n"
   ]
  },
  {
   "cell_type": "code",
   "execution_count": 62,
   "metadata": {},
   "outputs": [
    {
     "name": "stdout",
     "output_type": "stream",
     "text": [
      "The area of a circle with radius \n",
      " 4 is P"
     ]
    }
   ],
   "source": [
    "print(s\"The area of a circle with radius \\n $radius is P\")"
   ]
  },
  {
   "cell_type": "code",
   "execution_count": 64,
   "metadata": {
    "scrolled": true
   },
   "outputs": [
    {
     "data": {
      "text/plain": [
       "res26: Double = 50.266112\n"
      ]
     },
     "execution_count": 64,
     "metadata": {},
     "output_type": "execute_result"
    }
   ],
   "source": [
    "circleArea(radius) // usando una función"
   ]
  },
  {
   "cell_type": "code",
   "execution_count": 65,
   "metadata": {},
   "outputs": [
    {
     "name": "stdout",
     "output_type": "stream",
     "text": [
      "The area of a circle with radius 4.0 is 50.266112\n",
      "()"
     ]
    },
    {
     "data": {
      "text/plain": [
       "circleArea: (radius: Double)Unit\n"
      ]
     },
     "execution_count": 65,
     "metadata": {},
     "output_type": "execute_result"
    }
   ],
   "source": [
    "def circleArea(radius: Double):Unit={\n",
    "    val area = radius*radius*3.141632\n",
    "    println(s\"The area of a circle with radius $radius is $area\")\n",
    "    }\n",
    "print(circleArea(4))       // con el unit no se regresa ningun valor recordar que es ahí en donde se le indica\n",
    "        // que tipo de valor sera el de retorno"
   ]
  },
  {
   "cell_type": "code",
   "execution_count": 66,
   "metadata": {},
   "outputs": [
    {
     "ename": "<console>",
     "evalue": "2: error: '=' expected but '[' found.",
     "output_type": "error",
     "traceback": [
      "<console>:2: error: '=' expected but '[' found.",
      "def functionId(paramId : paramType)[:type] = FunctionBody",
      "                                   ^",
      ""
     ]
    }
   ],
   "source": [
    "def functionId(paramId : paramType)[:type] = FunctionBody"
   ]
  },
  {
   "cell_type": "code",
   "execution_count": 67,
   "metadata": {},
   "outputs": [
    {
     "data": {
      "text/plain": [
       "triangleArea: (height: Double, width: Double)Double\n",
       "res28: Double = 5.0\n"
      ]
     },
     "execution_count": 67,
     "metadata": {},
     "output_type": "execute_result"
    }
   ],
   "source": [
    "def triangleArea(height: Double, width: Double) = height*width/2\n",
    "triangleArea(2,5) // otra forma de declarar funciones es sin toda la sintaxis esto porque recordemos todo\n",
    "                        //es un objeto es decir se pueden encadenar por medio de un espacio simple\n",
    "                            //a mi parecer es un poco mas difícil de leer \n",
    "            //de forma implicita se observa que es Unit"
   ]
  },
  {
   "cell_type": "code",
   "execution_count": 69,
   "metadata": {},
   "outputs": [
    {
     "name": "stdout",
     "output_type": "stream",
     "text": [
      "Concatenated args = \n",
      " \n",
      "Concatenated args = \n",
      " 1\n",
      "Concatenated args = \n",
      " 1 -2\n",
      "Concatenated args = \n",
      " 1 -2 -3\n"
     ]
    },
    {
     "data": {
      "text/plain": [
       "multipleArgs: (params: Int*)Unit\n"
      ]
     },
     "execution_count": 69,
     "metadata": {},
     "output_type": "execute_result"
    }
   ],
   "source": [
    "def multipleArgs(params: Int*)= {\n",
    "    println(s\"\"\"Concatenated args = \\n ${params.mkString(\" -\")}\"\"\") // concatenar no se como funciona mkString\n",
    "}\n",
    "multipleArgs()                    // params parece tener el comportamiento de un rdd\n",
    "multipleArgs(1)\n",
    "multipleArgs(1,2)\n",
    "multipleArgs(1,2,3)"
   ]
  },
  {
   "cell_type": "code",
   "execution_count": 75,
   "metadata": {},
   "outputs": [
    {
     "name": "stdout",
     "output_type": "stream",
     "text": [
      "6"
     ]
    },
    {
     "data": {
      "text/plain": [
       "f: (n: Int)Int\n"
      ]
     },
     "execution_count": 75,
     "metadata": {},
     "output_type": "execute_result"
    }
   ],
   "source": [
    "def f(n:Int) = (n*(n+1))/2\n",
    "print(f(3))"
   ]
  },
  {
   "cell_type": "code",
   "execution_count": 79,
   "metadata": {},
   "outputs": [
    {
     "data": {
      "text/plain": [
       "identity: (a: Any)Any\n"
      ]
     },
     "execution_count": 79,
     "metadata": {},
     "output_type": "execute_result"
    }
   ],
   "source": [
    "def identity(a: Any)= a          //Any es como decirle que le llegara algo pero aun no le decimos que \n",
    "                                        //el concepto es interesante\n",
    "                                        \n",
    "/*val s: String = identity(\"This is a String\")\n",
    "\n",
    "StackTrace:\n",
    "Name: Compile Error\n",
    "Message: <console>:27: error: type mismatch;\n",
    "found : Any\n",
    "required: String\n",
    "val s: String = identity(\"This is a String\")*/"
   ]
  },
  {
   "cell_type": "code",
   "execution_count": null,
   "metadata": {},
   "outputs": [],
   "source": [
    "def identity(a: Any)= a\n",
    "/*val s: String = identity(\"This is a String\")\n",
    "\n",
    "StackTrace:\n",
    "Name: Compile Error\n",
    "Message: <console>:27: error: type mismatch;\n",
    "found : Any\n",
    "required: String\n",
    "val s: String = identity(\"This is a String\")*/"
   ]
  },
  {
   "cell_type": "code",
   "execution_count": 80,
   "metadata": {},
   "outputs": [
    {
     "name": "stdout",
     "output_type": "stream",
     "text": [
      "7.5"
     ]
    },
    {
     "data": {
      "text/plain": [
       "triangleArea2: (height: Double, width: Double)Double\n"
      ]
     },
     "execution_count": 80,
     "metadata": {},
     "output_type": "execute_result"
    }
   ],
   "source": [
    "def triangleArea2(height: Double, width: Double): Double =\n",
    "    {\n",
    "        def rectangleArea(height: Double, width: Double): Double = {\n",
    "            height*width\n",
    "        }\n",
    "    rectangleArea(height,width)/2\n",
    "    }\n",
    "print(triangleArea(3,5)) // el concepto de doble función f*g= f(g(x)) //recordar que sin return se regresa \n",
    "                                //el último valor"
   ]
  },
  {
   "cell_type": "code",
   "execution_count": 81,
   "metadata": {},
   "outputs": [
    {
     "name": "stdout",
     "output_type": "stream",
     "text": [
      "20\n",
      "50\n"
     ]
    },
    {
     "data": {
      "text/plain": [
       "max: (x: Int, y: Int)Int\n"
      ]
     },
     "execution_count": 81,
     "metadata": {},
     "output_type": "execute_result"
    }
   ],
   "source": [
    "def max(x: Int, y: Int):Int={\n",
    "    if (x>y)                      // if else funciona igual que en los demás lenguajes de programación\n",
    "        x\n",
    "    else\n",
    "        y\n",
    "}\n",
    "\n",
    "println(max(10,20))\n",
    "println(max(max(10,20),max(50,49)))"
   ]
  },
  {
   "cell_type": "code",
   "execution_count": 84,
   "metadata": {},
   "outputs": [
    {
     "name": "stdout",
     "output_type": "stream",
     "text": [
      "second string\n",
      "third string\n"
     ]
    },
    {
     "data": {
      "text/plain": [
       "aNumber: Int = 3\n"
      ]
     },
     "execution_count": 84,
     "metadata": {},
     "output_type": "execute_result"
    }
   ],
   "source": [
    "var aNumber=3\n",
    "if (aNumber >= 0)\n",
    "    if (aNumber == 0)\n",
    "        System.out.println(\"first string\");\n",
    "    else\n",
    "        System.out.println(\"second string\");\n",
    "System.out.println(\"third string\");"
   ]
  },
  {
   "cell_type": "code",
   "execution_count": 92,
   "metadata": {},
   "outputs": [
    {
     "name": "stdout",
     "output_type": "stream",
     "text": [
      "3\n"
     ]
    },
    {
     "data": {
      "text/plain": [
       "aNumber: Int = -3\n"
      ]
     },
     "execution_count": 92,
     "metadata": {},
     "output_type": "execute_result"
    }
   ],
   "source": [
    "//absoluto \n",
    "\n",
    "var aNumber: Int = -3\n",
    "\n",
    "if (aNumber >= 0)\n",
    "    println(aNumber)\n",
    "else\n",
    "    println(s\"${aNumber * -1}\")\n"
   ]
  },
  {
   "cell_type": "code",
   "execution_count": 93,
   "metadata": {},
   "outputs": [
    {
     "name": "stdout",
     "output_type": "stream",
     "text": [
      "Friday\n",
      "Invalid day\n"
     ]
    },
    {
     "data": {
      "text/plain": [
       "getDayOfWeek: (day: Int)String\n"
      ]
     },
     "execution_count": 93,
     "metadata": {},
     "output_type": "execute_result"
    }
   ],
   "source": [
    "def getDayOfWeek(day: Int):String = {\n",
    "    day match {\n",
    "        case 1 => \"Monday\"\n",
    "        case 2 => \"Tuesday\"\n",
    "        case 3 => \"Wednesday\"\n",
    "        case 4 => \"Thursday\"\n",
    "        case 5 => \"Friday\"\n",
    "        case 6 => \"Saturday\"\n",
    "        case 7 => \"Sunday\"\n",
    "        case _ => \"Invalid day\" // Default\n",
    "    }\n",
    "}\n",
    "println(getDayOfWeek(5))       // es como un switch\n",
    "println(getDayOfWeek(9))"
   ]
  },
  {
   "cell_type": "code",
   "execution_count": 94,
   "metadata": {},
   "outputs": [
    {
     "name": "stdout",
     "output_type": "stream",
     "text": [
      " Amount after applied discount: 630.0\n",
      " Amount after applied discount: 2000.0\n"
     ]
    },
    {
     "data": {
      "text/plain": [
       "getDiscount: (amount: Double)Double\n"
      ]
     },
     "execution_count": 94,
     "metadata": {},
     "output_type": "execute_result"
    }
   ],
   "source": [
    "def getDiscount(amount: Double):Double = {\n",
    "    amount match {\n",
    "        case amount if 0 to 500 contains amount => amount *(1-0.05)  // intervalos de contenencia \n",
    "                                                                // si 0 a 500 contiene amount entonces has .. \n",
    "    \n",
    "        case amount if 500 to 2000 contains amount =>amount*(1-0.1)\n",
    "        \n",
    "        case amount if amount >=2000 => amount*(1-0.2)\n",
    "    }\n",
    "}\n",
    "println(s\" Amount after applied discount: ${getDiscount(700)}\")\n",
    "println(s\" Amount after applied discount: ${getDiscount(2500)}\")  //también podemos llamar funciones desde el print"
   ]
  },
  {
   "cell_type": "code",
   "execution_count": 95,
   "metadata": {},
   "outputs": [
    {
     "name": "stdout",
     "output_type": "stream",
     "text": [
      "you said true\n"
     ]
    },
    {
     "data": {
      "text/plain": [
       "convertBooleanToStringMessage: (bool: Boolean)String\n",
       "result: String = you said true\n"
      ]
     },
     "execution_count": 95,
     "metadata": {},
     "output_type": "execute_result"
    }
   ],
   "source": [
    "def convertBooleanToStringMessage(bool: Boolean): String =\n",
    "    bool match {\n",
    "            case true => \"you said true\"\n",
    "            case false => \"you said false\"\n",
    "    }\n",
    "\n",
    "val result = convertBooleanToStringMessage(true)\n",
    "\n",
    "println(result)"
   ]
  },
  {
   "cell_type": "code",
   "execution_count": 114,
   "metadata": {},
   "outputs": [
    {
     "data": {
      "text/plain": [
       "isTrue: (a: Any)Int\n",
       "res61: Int = 1\n"
      ]
     },
     "execution_count": 114,
     "metadata": {},
     "output_type": "execute_result"
    }
   ],
   "source": [
    "def isTrue(a: Any) = a match {\n",
    "    case 0 | \"\" | 1.1F => 0      // el | se considera como un or en todos los casos donde se cumpla x caso entra ahí\n",
    "    case _ => 1   //default\n",
    "}\n",
    "\n",
    "//isTrue(0)\n",
    "//isTrue(\"\")\n",
    "//isTrue(1.1F)\n",
    "isTrue(new java.io.File(\"/etc/passwd\")) //entrando a un archivo del sistema"
   ]
  },
  {
   "cell_type": "code",
   "execution_count": null,
   "metadata": {},
   "outputs": [],
   "source": [
    "match {\n",
    "    case 1 => println(\"one, a lonely number\")\n",
    "    case x if x == 2 || x == 3 => println(\"two’s company, three’s a crowd\")\n",
    "    case x if x > 3 => println(\"4+, that’s a party\")\n",
    "    case _ => println(\"i’m guessing your number is zero or less\")\n",
    "}"
   ]
  },
  {
   "cell_type": "code",
   "execution_count": 116,
   "metadata": {},
   "outputs": [
    {
     "name": "stdout",
     "output_type": "stream",
     "text": [
      "one, a lonely number\n"
     ]
    },
    {
     "data": {
      "text/plain": [
       "count: Int = 1\n"
      ]
     },
     "execution_count": 116,
     "metadata": {},
     "output_type": "execute_result"
    }
   ],
   "source": [
    "var count=1\n",
    "count match {\n",
    "    case 1 => { //se pueden usar corchetes para ejecutar una serie de sentencias en este caso\n",
    "        println(\"one, a lonely number\")\n",
    "    }\n",
    "    case x if x == 2 || x == 3 =>\n",
    "        println(\"two’s company, three’s a crowd\")\n",
    "    case x if x > 3 =>\n",
    "        println(\"4+, that’s a party\")\n",
    "    case _ =>\n",
    "        println(\"i’m guessing your number is zero or less\")\n",
    "}"
   ]
  },
  {
   "cell_type": "code",
   "execution_count": null,
   "metadata": {},
   "outputs": [],
   "source": [
    "match {\n",
    "    case a if 0 to 9 contains a => println(\"0-9 range: \" + a)\n",
    "    case b if 10 to 19 contains b => println(\"10-19 range: \"+ a)\n",
    "    case c if 20 to 29 contains c => println(\"20-29 range: \"+ a)\n",
    "    case _ => println(\"Hmmm...\")\n",
    "}"
   ]
  },
  {
   "cell_type": "code",
   "execution_count": null,
   "metadata": {},
   "outputs": [],
   "source": []
  },
  {
   "cell_type": "markdown",
   "metadata": {},
   "source": [
    "## ---------------------Bucles------------------------------"
   ]
  },
  {
   "cell_type": "code",
   "execution_count": 117,
   "metadata": {},
   "outputs": [
    {
     "name": "stdout",
     "output_type": "stream",
     "text": [
      "\n",
      "1\n",
      "2\n",
      "3\n",
      "5"
     ]
    },
    {
     "data": {
      "text/plain": [
       "multipleArgs: (params: Int*)Unit\n"
      ]
     },
     "execution_count": 117,
     "metadata": {},
     "output_type": "execute_result"
    }
   ],
   "source": [
    "def multipleArgs(params: Int*)= {\n",
    "    var i =0\n",
    "    while (i < params.length){\n",
    "        if (1!=0)\n",
    "            print(\"\\n\")\n",
    "            print(params(i))\n",
    "            i+=1\n",
    "    }\n",
    "}\n",
    "multipleArgs(1,2,3,5)"
   ]
  },
  {
   "cell_type": "code",
   "execution_count": 118,
   "metadata": {},
   "outputs": [
    {
     "name": "stdout",
     "output_type": "stream",
     "text": [
      "params at 0 is : 1\n",
      "params at 1 is : 2\n",
      "params at 2 is : 3\n",
      "params at 3 is : 5\n"
     ]
    },
    {
     "data": {
      "text/plain": [
       "multipleArgs: (params: Int*)Unit\n"
      ]
     },
     "execution_count": 118,
     "metadata": {},
     "output_type": "execute_result"
    }
   ],
   "source": [
    "def multipleArgs(params: Int*)= {\n",
    "    for (i <- 0 until params.length)\n",
    "        println(s\"params at $i is : ${params(i)}\")\n",
    "    }\n",
    "multipleArgs(1,2,3,5)"
   ]
  },
  {
   "cell_type": "code",
   "execution_count": 120,
   "metadata": {},
   "outputs": [
    {
     "name": "stdout",
     "output_type": "stream",
     "text": [
      "1\n",
      "2\n",
      "3\n",
      "5\n"
     ]
    },
    {
     "data": {
      "text/plain": [
       "multipleArgs: (params: Int*)Unit\n"
      ]
     },
     "execution_count": 120,
     "metadata": {},
     "output_type": "execute_result"
    }
   ],
   "source": [
    "def multipleArgs(params: Int*)= {\n",
    "    for (i <- params){\n",
    "        println(i)   // i toma el valor de cada uno de los params\n",
    "    }\n",
    "}\n",
    "multipleArgs(1,2,3,5)"
   ]
  },
  {
   "cell_type": "code",
   "execution_count": 124,
   "metadata": {},
   "outputs": [
    {
     "name": "stdout",
     "output_type": "stream",
     "text": [
      "3\n",
      "params at 0 is : 1\n",
      "params at 1 is : 2\n",
      "params at 2 is : 3\n",
      "params at 3 is : 5\n"
     ]
    },
    {
     "data": {
      "text/plain": [
       "multipleArgs: (params: Int*)Unit\n"
      ]
     },
     "execution_count": 124,
     "metadata": {},
     "output_type": "execute_result"
    }
   ],
   "source": [
    "def multipleArgs(params: Int*)= {   // en automatico params se transforma en un arreglo de enteros\n",
    "    println(params(2))\n",
    "    for (i <- 0 until params.length)\n",
    "        println(s\"params at $i is : ${params(i)}\")\n",
    "}\n",
    "multipleArgs(1,2,3,5)"
   ]
  },
  {
   "cell_type": "code",
   "execution_count": 125,
   "metadata": {},
   "outputs": [
    {
     "name": "stdout",
     "output_type": "stream",
     "text": [
      "2\n",
      "4\n",
      "6\n",
      "8\n",
      "10\n"
     ]
    }
   ],
   "source": [
    "for (i <- 1 to 10 if i % 2 ==0) println(i) // imprimir ciclos mas o menos como el len en python "
   ]
  },
  {
   "cell_type": "markdown",
   "metadata": {},
   "source": [
    "## ---------------Trabajando con archivos------------------"
   ]
  },
  {
   "cell_type": "code",
   "execution_count": 127,
   "metadata": {},
   "outputs": [
    {
     "data": {
      "text/plain": [
       "import scala.io.Source\n"
      ]
     },
     "execution_count": 127,
     "metadata": {},
     "output_type": "execute_result"
    }
   ],
   "source": [
    "import scala.io.Source\n"
   ]
  },
  {
   "cell_type": "code",
   "execution_count": 128,
   "metadata": {},
   "outputs": [
    {
     "data": {
      "text/plain": [
       "printFile: (path: String)Unit\n"
      ]
     },
     "execution_count": 128,
     "metadata": {},
     "output_type": "execute_result"
    }
   ],
   "source": [
    "def printFile(path:String){\n",
    "    for (line <- Source.fromFile(path).getLines) println(line)\n",
    "}\n"
   ]
  },
  {
   "cell_type": "code",
   "execution_count": 131,
   "metadata": {},
   "outputs": [
    {
     "name": "stdout",
     "output_type": "stream",
     "text": [
      "hola mundo\n",
      "este es \n",
      "un texto\n",
      "para \n",
      "probar \n",
      "la impersión \n",
      "de pantalla\n",
      "mediante\n",
      "un archivo en scala\n"
     ]
    }
   ],
   "source": [
    "printFile(\"/home/miguel_ortega/Documentos/Datio/Scala/txt.txt\") //lectura de datos desde un archivo"
   ]
  },
  {
   "cell_type": "code",
   "execution_count": 132,
   "metadata": {},
   "outputs": [
    {
     "data": {
      "text/plain": [
       "a: Array[String] = Array(apple, banana, orange)\n"
      ]
     },
     "execution_count": 132,
     "metadata": {},
     "output_type": "execute_result"
    }
   ],
   "source": [
    "val a = Array(\"apple\", \"banana\", \"orange\")"
   ]
  },
  {
   "cell_type": "code",
   "execution_count": null,
   "metadata": {},
   "outputs": [],
   "source": [
    "página 89 pendiente matriz de valores"
   ]
  },
  {
   "cell_type": "code",
   "execution_count": null,
   "metadata": {},
   "outputs": [],
   "source": []
  },
  {
   "cell_type": "code",
   "execution_count": 133,
   "metadata": {},
   "outputs": [
    {
     "data": {
      "text/plain": [
       "insertSortForArrays: (list: Array[Int])Array[Int]\n"
      ]
     },
     "execution_count": 133,
     "metadata": {},
     "output_type": "execute_result"
    }
   ],
   "source": [
    "def insertSortForArrays(list:Array[Int]) = {\n",
    "    var j = 1\n",
    "    while(j<list.length){\n",
    "        val key = list(j)\n",
    "        var i = j-1\n",
    "        while(i>=0 && list(i)>key){\n",
    "            list(i+1) = list(i)\n",
    "            i=i-1\n",
    "        }\n",
    "    list(i+1)=key\n",
    "    j=j+1\n",
    "    }\n",
    "list\n",
    "}"
   ]
  },
  {
   "cell_type": "code",
   "execution_count": 141,
   "metadata": {},
   "outputs": [
    {
     "data": {
      "text/plain": [
       "a: Array[Int] = Array(1, 2, 3, 4, 5)\n",
       "res77: Array[Int] = Array(1, 2, 3, 4, 5)\n"
      ]
     },
     "execution_count": 141,
     "metadata": {},
     "output_type": "execute_result"
    }
   ],
   "source": [
    "var a = Array(1,2,3,4,5)\n",
    "a"
   ]
  },
  {
   "cell_type": "code",
   "execution_count": 142,
   "metadata": {
    "scrolled": true
   },
   "outputs": [
    {
     "data": {
      "text/plain": [
       "res78: Array[Int] = Array(1, 2, 3, 4, 5)\n"
      ]
     },
     "execution_count": 142,
     "metadata": {},
     "output_type": "execute_result"
    }
   ],
   "source": [
    "insertSortForArrays(a)"
   ]
  },
  {
   "cell_type": "code",
   "execution_count": 143,
   "metadata": {},
   "outputs": [
    {
     "data": {
      "text/plain": [
       "array: Array[Int] = Array(1, 2, 3, 4, 5, 5, 6, 7, 8, 9)\n",
       "orderedArray: Array[Int] = Array(1, 2, 3, 4, 5, 5, 6, 7, 8, 9)\n"
      ]
     },
     "execution_count": 143,
     "metadata": {},
     "output_type": "execute_result"
    }
   ],
   "source": [
    "val array = Array(5,9,7,1,5,3,4,8,2,6)\n",
    "val orderedArray = insertSortForArrays(array)"
   ]
  },
  {
   "cell_type": "markdown",
   "metadata": {},
   "source": [
    "## ---------------- Trata de datos mediente funciones de cadena-------------------"
   ]
  },
  {
   "cell_type": "code",
   "execution_count": 151,
   "metadata": {},
   "outputs": [
    {
     "data": {
      "text/plain": [
       "s: String = eggs, milk, butter, Coco Puffs\n",
       "res85: Array[String] = Array(eggs, \" milk\", \" butter\", \" Coco Puffs\")\n"
      ]
     },
     "execution_count": 151,
     "metadata": {},
     "output_type": "execute_result"
    }
   ],
   "source": [
    "val s = \"eggs, milk, butter, Coco Puffs\"\n",
    "s.split(\",\")"
   ]
  },
  {
   "cell_type": "code",
   "execution_count": 152,
   "metadata": {},
   "outputs": [
    {
     "data": {
      "text/plain": [
       "s: String = eggs, milk, butter, Coco Puffs\n",
       "y: Array[String] = Array(eggs, milk, butter, Coco Puffs)\n"
      ]
     },
     "execution_count": 152,
     "metadata": {},
     "output_type": "execute_result"
    }
   ],
   "source": [
    "val s = \"eggs, milk, butter, Coco Puffs\"\n",
    "val y= s.split(\",\").map(_.trim)"
   ]
  },
  {
   "cell_type": "code",
   "execution_count": 159,
   "metadata": {},
   "outputs": [
    {
     "data": {
      "text/plain": [
       "lista: String = 1,7,8,2,1,3,5,7,8,9\n"
      ]
     },
     "execution_count": 159,
     "metadata": {},
     "output_type": "execute_result"
    }
   ],
   "source": [
    "var lista =  \"1,7,8,2,1,3,5,7,8,9\""
   ]
  },
  {
   "cell_type": "code",
   "execution_count": 161,
   "metadata": {},
   "outputs": [
    {
     "data": {
      "text/plain": [
       "y: Array[String] = Array(1, 7, 8, 2, 1, 3, 5, 7, 8, 9)\n"
      ]
     },
     "execution_count": 161,
     "metadata": {},
     "output_type": "execute_result"
    }
   ],
   "source": [
    "var y = lista.split(\",\")"
   ]
  },
  {
   "cell_type": "code",
   "execution_count": 162,
   "metadata": {
    "scrolled": true
   },
   "outputs": [
    {
     "data": {
      "text/plain": [
       "res91: Boolean = false\n"
      ]
     },
     "execution_count": 162,
     "metadata": {},
     "output_type": "execute_result"
    }
   ],
   "source": [
    "y.contains(2)"
   ]
  },
  {
   "cell_type": "code",
   "execution_count": 164,
   "metadata": {},
   "outputs": [
    {
     "data": {
      "text/plain": [
       "res93: Boolean = true\n"
      ]
     },
     "execution_count": 164,
     "metadata": {},
     "output_type": "execute_result"
    }
   ],
   "source": [
    "lista.contains(\"2\")"
   ]
  },
  {
   "cell_type": "code",
   "execution_count": 175,
   "metadata": {},
   "outputs": [
    {
     "data": {
      "text/plain": [
       "import util.control.Breaks._\n"
      ]
     },
     "execution_count": 175,
     "metadata": {},
     "output_type": "execute_result"
    }
   ],
   "source": [
    "import util.control.Breaks._"
   ]
  },
  {
   "cell_type": "code",
   "execution_count": 182,
   "metadata": {},
   "outputs": [
    {
     "name": "stdout",
     "output_type": "stream",
     "text": [
      "2 == 1? no son iguales\n",
      "2 == 7? no son iguales\n",
      "2 == 8? no son iguales\n",
      "2 == 2? correcto\n"
     ]
    },
    {
     "ename": "scala.util.control.BreakControl",
     "evalue": "",
     "output_type": "error",
     "traceback": [
      "scala.util.control.BreakControl",
      ""
     ]
    }
   ],
   "source": [
    "for (i <- y){\n",
    "    if(2==i.toInt){         // se requiere el casteo de i a int para decirle que ya no es un objeto sino un número\n",
    "        println(s\"2 == ${i}? correcto\")\n",
    "        break\n",
    "    }\n",
    "    else\n",
    "        println(s\"2 == ${i}? no son iguales\")\n",
    "}\n",
    "        \n"
   ]
  },
  {
   "cell_type": "markdown",
   "metadata": {},
   "source": [
    "## -------------------Tipos de listas-------------------------------"
   ]
  },
  {
   "cell_type": "code",
   "execution_count": 183,
   "metadata": {},
   "outputs": [
    {
     "data": {
      "text/plain": [
       "strList: List[String] = List(bob, alice, carol)\n",
       "strList2: List[String] = List(fifo, fifo, fifo)\n",
       "nums: List[Int] = List(1, 2, 3, 4)\n",
       "empty: List[Nothing] = List()\n",
       "rangeLst: List[Int] = List(1, 2, 3, 4, 5, 6, 7, 8, 9)\n",
       "rangeLst2: List[Int] = List(1, 3, 5, 7, 9)\n",
       "filledLst: List[String] = List(foo, foo, foo)\n",
       "tabs: List[Int] = List(0, 2, 4, 6, 8)\n"
      ]
     },
     "execution_count": 183,
     "metadata": {},
     "output_type": "execute_result"
    }
   ],
   "source": [
    "var strList: List[String] = List(\"bob\", \"alice\", \"carol\")\n",
    "\n",
    "var strList2: List[String] = List.fill(3)(\"fifo\")\n",
    "\n",
    "var nums: List[Int] = List(1, 2, 3, 4)\n",
    "\n",
    "var empty: List[Nothing] = List()\n",
    "\n",
    "var rangeLst = List.range(1,10)\n",
    "\n",
    "var rangeLst2 = List.range(1,10,2)\n",
    "\n",
    "var filledLst = List.fill(3)(\"foo\")\n",
    "\n",
    "var tabs = List.tabulate(5)(n => 2*n)"
   ]
  },
  {
   "cell_type": "code",
   "execution_count": 184,
   "metadata": {},
   "outputs": [
    {
     "name": "stdout",
     "output_type": "stream",
     "text": [
      "List(List(denisse, mario), bob, alice, carol)\n",
      "List(List(bob, alice, carol), denisse, mario)\n",
      "List(denisse, mario, bob, alice, carol)\n",
      "List(0, 1, 2, 3, 4)\n",
      "bob\n",
      "List(alice, carol)\n"
     ]
    },
    {
     "data": {
      "text/plain": [
       "strList: List[String] = List(bob, alice, carol)\n",
       "strList2: List[String] = List(denisse, mario)\n"
      ]
     },
     "execution_count": 184,
     "metadata": {},
     "output_type": "execute_result"
    }
   ],
   "source": [
    "val strList = List(\"bob\", \"alice\", \"carol\")\n",
    "val strList2 = List(\"denisse\", \"mario\")\n",
    "println(strList.::(strList2))\n",
    "println(strList::(strList2))\n",
    "println(strList.:::(strList2))\n",
    "println(0 :: nums)\n",
    "println(strList.head)\n",
    "println(strList.tail)"
   ]
  },
  {
   "cell_type": "markdown",
   "metadata": {},
   "source": [
    "## --------------------------------Filtros------------------------------------"
   ]
  },
  {
   "cell_type": "code",
   "execution_count": 185,
   "metadata": {},
   "outputs": [
    {
     "data": {
      "text/plain": [
       "insert: (value: Int, list: List[Int])List[Int]\n",
       "insertionsort: (list: List[Int])List[Int]\n",
       "list: List[Int] = List(9, 7, 1, 5, 3, 4, 8, 2, 6)\n",
       "orderedList: List[Int] = List(1, 2, 3, 4, 5, 6, 7, 8, 9)\n"
      ]
     },
     "execution_count": 185,
     "metadata": {},
     "output_type": "execute_result"
    }
   ],
   "source": [
    "def insert(value: Int, list: List[Int]):List[Int] =\n",
    "    if (list.isEmpty || value <= list.head) value :: list\n",
    "    else list.head :: insert(value, list.tail)\n",
    "def insertionsort(list:List[Int]): List[Int] =\n",
    "    if (list.isEmpty) Nil\n",
    "else insert(list.head,insertionsort(list.tail))\n",
    "val list = List(9,7,1,5,3,4,8,2,6)\n",
    "val orderedList = insertionsort(list)"
   ]
  },
  {
   "cell_type": "code",
   "execution_count": null,
   "metadata": {},
   "outputs": [],
   "source": []
  },
  {
   "cell_type": "code",
   "execution_count": 186,
   "metadata": {},
   "outputs": [
    {
     "data": {
      "text/plain": [
       "listNums: List[Double] = List(1.0, 2.0, 6.0, 5.0, 5.0, 6.0, 4.0)\n",
       "sumList: (list: List[Double])Double\n",
       "mean: Double = 4.142857142857143\n",
       "variance: Double = 22.857142857142858\n"
      ]
     },
     "execution_count": 186,
     "metadata": {},
     "output_type": "execute_result"
    }
   ],
   "source": [
    "val listNums: List[Double] = List(1,2,6,5,5,6,4)\n",
    "def sumList(list: List[Double]):Double = {\n",
    "    if (list.isEmpty) 0.toDouble\n",
    "    else list.head + sumList(list.tail)\n",
    "}\n",
    "\n",
    "val mean = sumList(listNums)/listNums.length\n",
    "val variance = sumList(listNums.map(x => (x-mean)*(x-mean)))"
   ]
  },
  {
   "cell_type": "code",
   "execution_count": null,
   "metadata": {},
   "outputs": [],
   "source": []
  },
  {
   "cell_type": "code",
   "execution_count": 188,
   "metadata": {},
   "outputs": [
    {
     "data": {
      "text/plain": [
       "countriesMaps: scala.collection.immutable.Map[String,String] = Map(PERU -> PE, MEXICO -> MX, COLOMBIA -> COL, ARGENTINA -> AR, SPAIN -> ES, UINITED STATES -> USA)\n",
       "countries: List[String] = List(MEXICO, UINITED STATES, COLOMBIA)\n",
       "abbreviations: List[String] = List(MX, USA, COL)\n"
      ]
     },
     "execution_count": 188,
     "metadata": {},
     "output_type": "execute_result"
    }
   ],
   "source": [
    "val countriesMaps = Map(\"MEXICO\"->\"MX\",\"UINITED STATES\"->\"USA\",\"COLOMBIA\"->\"COL\",\"ARGENTINA\"->\"AR\",\"PERU\"->\"PE\",\"SPAIN\"->\"ES\")\n",
    "val countries = List(\"MEXICO\",\"UINITED STATES\",\"COLOMBIA\")\n",
    "val abbreviations = countries.map(countriesMaps)"
   ]
  },
  {
   "cell_type": "code",
   "execution_count": 190,
   "metadata": {},
   "outputs": [
    {
     "data": {
      "text/plain": [
       "squares: List[Int] = List(0, 1, 4, 9, 16, 25)\n",
       "mul: List[List[Int]] = List(List(0, 0, 0, 0, 0), List(0, 1, 2, 3, 4), List(0, 2, 4, 6, 8), List(0, 3, 6, 9, 12))\n"
      ]
     },
     "execution_count": 190,
     "metadata": {},
     "output_type": "execute_result"
    }
   ],
   "source": [
    "val squares = List.tabulate(6)(n => n * n)\n",
    "//println( \"squares : \" + squares)\n",
    "val mul = List.tabulate(4,5)(_*_)\n",
    "//println( \"mul : \" + mul)"
   ]
  },
  {
   "cell_type": "markdown",
   "metadata": {},
   "source": [
    "## ------------------ lectura de archivos-----------------"
   ]
  },
  {
   "cell_type": "code",
   "execution_count": 192,
   "metadata": {},
   "outputs": [
    {
     "data": {
      "text/plain": [
       "import java.util.Scanner\n"
      ]
     },
     "execution_count": 192,
     "metadata": {},
     "output_type": "execute_result"
    }
   ],
   "source": [
    "import java.util.Scanner"
   ]
  },
  {
   "cell_type": "code",
   "execution_count": 195,
   "metadata": {
    "scrolled": true
   },
   "outputs": [
    {
     "data": {
      "text/plain": [
       "in: java.util.Scanner = java.util.Scanner[delimiters=\\p{javaWhitespace}+][position=0][match valid=false][need input=false][source closed=false][skipped=false][group separator=\\,][decimal separator=\\.][positive prefix=][negative prefix=\\Q-\\E][positive suffix=][negative suffix=][NaN string=\\Q�\\E][infinity string=\\Q∞\\E]\n"
      ]
     },
     "execution_count": 195,
     "metadata": {},
     "output_type": "execute_result"
    }
   ],
   "source": [
    "val in = new java.util.Scanner(new java.io.File(\"txt.txt\"))\n"
   ]
  },
  {
   "cell_type": "code",
   "execution_count": 196,
   "metadata": {},
   "outputs": [
    {
     "ename": "<console>",
     "evalue": "2: error: ';' expected but '.' found.",
     "output_type": "error",
     "traceback": [
      "<console>:2: error: ';' expected but '.' found.",
      "while (in.hasNext()) process in.next()",
      "                               ^",
      ""
     ]
    }
   ],
   "source": [
    "while (in.hasNext()) process in.next()"
   ]
  },
  {
   "cell_type": "code",
   "execution_count": null,
   "metadata": {},
   "outputs": [],
   "source": []
  },
  {
   "cell_type": "code",
   "execution_count": null,
   "metadata": {},
   "outputs": [],
   "source": []
  },
  {
   "cell_type": "code",
   "execution_count": null,
   "metadata": {},
   "outputs": [],
   "source": []
  },
  {
   "cell_type": "code",
   "execution_count": null,
   "metadata": {},
   "outputs": [],
   "source": []
  },
  {
   "cell_type": "code",
   "execution_count": null,
   "metadata": {},
   "outputs": [],
   "source": []
  },
  {
   "cell_type": "code",
   "execution_count": null,
   "metadata": {},
   "outputs": [],
   "source": []
  },
  {
   "cell_type": "code",
   "execution_count": null,
   "metadata": {},
   "outputs": [],
   "source": []
  },
  {
   "cell_type": "code",
   "execution_count": null,
   "metadata": {},
   "outputs": [],
   "source": []
  }
 ],
 "metadata": {
  "kernelspec": {
   "display_name": "spylon-kernel",
   "language": "scala",
   "name": "spylon-kernel"
  },
  "language_info": {
   "codemirror_mode": "text/x-scala",
   "file_extension": ".scala",
   "help_links": [
    {
     "text": "MetaKernel Magics",
     "url": "https://metakernel.readthedocs.io/en/latest/source/README.html"
    }
   ],
   "mimetype": "text/x-scala",
   "name": "scala",
   "pygments_lexer": "scala",
   "version": "0.4.1"
  }
 },
 "nbformat": 4,
 "nbformat_minor": 2
}
