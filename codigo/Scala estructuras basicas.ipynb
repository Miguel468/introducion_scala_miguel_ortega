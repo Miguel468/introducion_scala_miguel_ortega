{
 "cells": [
  {
   "cell_type": "code",
   "execution_count": 1,
   "metadata": {},
   "outputs": [
    {
     "data": {
      "text/plain": [
       "Intitializing Scala interpreter ..."
      ]
     },
     "metadata": {},
     "output_type": "display_data"
    },
    {
     "data": {
      "text/plain": [
       "Spark Web UI available at http://192.168.0.8:4040\n",
       "SparkContext available as 'sc' (version = 2.4.4, master = local[*], app id = local-1587921312016)\n",
       "SparkSession available as 'spark'\n"
      ]
     },
     "metadata": {},
     "output_type": "display_data"
    },
    {
     "data": {
      "text/plain": [
       "res0: Int = 2\n"
      ]
     },
     "execution_count": 1,
     "metadata": {},
     "output_type": "execute_result"
    }
   ],
   "source": [
    "1+1"
   ]
  },
  {
   "cell_type": "code",
   "execution_count": null,
   "metadata": {},
   "outputs": [],
   "source": []
  },
  {
   "cell_type": "markdown",
   "metadata": {},
   "source": [
    "## Tipos de variables"
   ]
  },
  {
   "cell_type": "code",
   "execution_count": 2,
   "metadata": {},
   "outputs": [
    {
     "data": {
      "text/plain": [
       "num: Int = 255\n",
       "longValue: Long = 1\n",
       "doubleValue: Double = 3.1416\n",
       "floatValue: Float = 1.6164\n",
       "cade1: String = hola\n",
       "cade2: String = mundo\n"
      ]
     },
     "execution_count": 2,
     "metadata": {},
     "output_type": "execute_result"
    }
   ],
   "source": [
    "val bool1 = true\n",
    "val bool2 = false\n",
    "//Integers\n",
    "val num: Int = 255\n",
    "//Longs\n",
    "//val longValue: Long = 1L\n",
    "//Doubles\n",
    "val doubleValue: Double = 3.1416\n",
    "//Floats\n",
    "val floatValue:Float = 1.6164f\n",
    "\n",
    "val cade1=\"hola\"\n",
    "val cade2=\"mundo\"\n"
   ]
  },
  {
   "cell_type": "code",
   "execution_count": 4,
   "metadata": {},
   "outputs": [
    {
     "ename": "<console>",
     "evalue": "26: error: reassignment to val",
     "output_type": "error",
     "traceback": [
      "<console>:26: error: reassignment to val",
      "       cade1=\"ejemplo\"",
      "            ^",
      ""
     ]
    }
   ],
   "source": [
    "cade1=\"ejemplo\""
   ]
  },
  {
   "cell_type": "code",
   "execution_count": null,
   "metadata": {},
   "outputs": [],
   "source": []
  },
  {
   "cell_type": "markdown",
   "metadata": {},
   "source": [
    "## Listas"
   ]
  },
  {
   "cell_type": "code",
   "execution_count": 5,
   "metadata": {},
   "outputs": [
    {
     "data": {
      "text/plain": [
       "lista: List[Int] = List(1, 2, 3, 4, 5, 6)\n"
      ]
     },
     "execution_count": 5,
     "metadata": {},
     "output_type": "execute_result"
    }
   ],
   "source": [
    "var lista = List(1,2,3,4,5,6)"
   ]
  },
  {
   "cell_type": "code",
   "execution_count": 8,
   "metadata": {},
   "outputs": [
    {
     "data": {
      "text/plain": [
       "res1: List[Int] = List(1, 2, 3, 4, 5, 6, 7, 8)\n"
      ]
     },
     "execution_count": 8,
     "metadata": {},
     "output_type": "execute_result"
    }
   ],
   "source": [
    "lista:::List(7,8)"
   ]
  },
  {
   "cell_type": "code",
   "execution_count": 10,
   "metadata": {},
   "outputs": [
    {
     "data": {
      "text/plain": [
       "lista: List[Int] = List(1, 2, 3, 4, 5, 6, 7, 8)\n"
      ]
     },
     "execution_count": 10,
     "metadata": {},
     "output_type": "execute_result"
    }
   ],
   "source": [
    "lista= lista:::List(7,8)"
   ]
  },
  {
   "cell_type": "code",
   "execution_count": 13,
   "metadata": {},
   "outputs": [
    {
     "data": {
      "text/plain": [
       "res5: List[Any] = List(1, 2, 3, 4, 5, 6, 7, 8, cade1, cade2)\n"
      ]
     },
     "execution_count": 13,
     "metadata": {},
     "output_type": "execute_result"
    }
   ],
   "source": [
    "lista:::List(\"cade1\",\"cade2\")"
   ]
  },
  {
   "cell_type": "code",
   "execution_count": 14,
   "metadata": {},
   "outputs": [
    {
     "ename": "<console>",
     "evalue": "26: error: type mismatch;",
     "output_type": "error",
     "traceback": [
      "<console>:26: error: type mismatch;",
      " found   : List[Any]",
      " required: List[Int]",
      "       lista = lista:::List(\"cade1\",\"cade2\")",
      "                    ^",
      ""
     ]
    }
   ],
   "source": [
    "lista = lista:::List(\"cade1\",\"cade2\")"
   ]
  },
  {
   "cell_type": "code",
   "execution_count": null,
   "metadata": {},
   "outputs": [],
   "source": []
  },
  {
   "cell_type": "code",
   "execution_count": 12,
   "metadata": {},
   "outputs": [
    {
     "data": {
      "text/plain": [
       "res4: List[Any] = List(List(1, 2, 3, 4, 5, 6, 7, 8), 7, 8)\n"
      ]
     },
     "execution_count": 12,
     "metadata": {},
     "output_type": "execute_result"
    }
   ],
   "source": [
    "lista::List(7,8)"
   ]
  },
  {
   "cell_type": "code",
   "execution_count": null,
   "metadata": {},
   "outputs": [],
   "source": []
  },
  {
   "cell_type": "code",
   "execution_count": 15,
   "metadata": {},
   "outputs": [
    {
     "data": {
      "text/plain": [
       "list1: List[Int] = List(1, 2, 3, 4, 5)\n"
      ]
     },
     "execution_count": 15,
     "metadata": {},
     "output_type": "execute_result"
    }
   ],
   "source": [
    "val list1 = 1::2::3::4::5::Nil"
   ]
  },
  {
   "cell_type": "code",
   "execution_count": null,
   "metadata": {},
   "outputs": [],
   "source": []
  },
  {
   "cell_type": "code",
   "execution_count": 25,
   "metadata": {},
   "outputs": [
    {
     "ename": "<console>",
     "evalue": "2: error: identifier expected but '(' found.",
     "output_type": "error",
     "traceback": [
      "<console>:2: error: identifier expected but '(' found.",
      "type(list1)",
      "    ^",
      ""
     ]
    }
   ],
   "source": [
    "type(list1)"
   ]
  },
  {
   "cell_type": "code",
   "execution_count": 22,
   "metadata": {},
   "outputs": [
    {
     "data": {
      "text/plain": [
       "list1: List[Int] = List(1, 2, 3, 4, 5)\n",
       "list2: List[Int] = List(1, 2, 3, 4, 5)\n",
       "list3: List[Int] = List(1, 2, 3, 4, 5)\n",
       "list4: List[Int] = List(1, 3, 5)\n",
       "list5: List[Int] = List(1, 1, 1, 1, 1)\n",
       "list6: List[String] = List(Paco, Andres, Sonia, Maria)\n",
       "list7: List[Int] = List(0, 1, 4, 9, 16)\n"
      ]
     },
     "execution_count": 22,
     "metadata": {},
     "output_type": "execute_result"
    }
   ],
   "source": [
    "var list1 = 1::2::3::4::5::Nil\n",
    "var list2 = List(1,2,3,4,5)\n",
    "var list3 = List.range(1,6)\n",
    "var list4 = List.range(1,6,2)\n",
    "var list5 = List.fill(5)(1)\n",
    "var list6 = List(\"Paco\",\"Andres\",\"Sonia\",\"Maria\")\n",
    "var list7 = List.tabulate(5)(n => n * n)\n",
    "\n",
    "\n",
    "\n"
   ]
  },
  {
   "cell_type": "code",
   "execution_count": 23,
   "metadata": {},
   "outputs": [
    {
     "ename": "<console>",
     "evalue": "2: error: ';' expected but '=' found.",
     "output_type": "error",
     "traceback": [
      "<console>:2: error: ';' expected but '=' found.",
      "list1: List[Int] = List(1, 2, 3, 4, 5)",
      "                 ^",
      "<console>:3: error: ';' expected but '=' found.",
      "list2: List[Int] = List(1, 2, 3, 4, 5)",
      "                 ^",
      "<console>:4: error: ';' expected but '=' found.",
      "list3: List[Int] = List(1, 2, 3, 4, 5)",
      "                 ^",
      "<console>:5: error: ';' expected but '=' found.",
      "list4: List[Int] = List(1, 3, 5)",
      "                 ^",
      "<console>:6: error: ';' expected but '=' found.",
      "list5: List[Int] = List(1, 1, 1, 1, 1)",
      "                 ^",
      "<console>:7: error: ';' expected but '=' found.",
      "list6: List[String] = List(Paco, Andres, Sonia, Maria)",
      "                    ^",
      "<console>:8: error: ';' expected but '=' found.",
      "list7: List[Int] = List(0, 1, 4, 9, 16)",
      "                 ^",
      ""
     ]
    }
   ],
   "source": [
    "list1: List[Int] = List(1, 2, 3, 4, 5)\n",
    "list2: List[Int] = List(1, 2, 3, 4, 5)\n",
    "list3: List[Int] = List(1, 2, 3, 4, 5)\n",
    "list4: List[Int] = List(1, 3, 5)\n",
    "list5: List[Int] = List(1, 1, 1, 1, 1)\n",
    "list6: List[String] = List(Paco, Andres, Sonia, Maria)\n",
    "list7: List[Int] = List(0, 1, 4, 9, 16)"
   ]
  },
  {
   "cell_type": "code",
   "execution_count": 17,
   "metadata": {},
   "outputs": [
    {
     "ename": "<console>",
     "evalue": "2: error: ';' expected but '=' found.",
     "output_type": "error",
     "traceback": [
      "<console>:2: error: ';' expected but '=' found.",
      "list1: List[Int] = List(1, 2, 3, 4, 5)",
      "                 ^",
      "<console>:3: error: ';' expected but '=' found.",
      "list2: List[Int] = List(1, 2, 3, 4, 5)",
      "                 ^",
      "<console>:4: error: ';' expected but '=' found.",
      "list3: List[Int] = List(1, 2, 3, 4, 5)",
      "                 ^",
      "<console>:5: error: ';' expected but '=' found.",
      "list4: List[Int] = List(1, 3, 5)",
      "                 ^",
      "<console>:6: error: ';' expected but '=' found.",
      "list5: List[Int] = List(1, 1, 1, 1, 1)",
      "                 ^",
      "<console>:7: error: ';' expected but '=' found.",
      "list6: List[String] = List(Paco, Andres, Sonia, Maria)",
      "                    ^",
      "<console>:8: error: ';' expected but '=' found.",
      "list7: List[Int] = List(0, 1, 4, 9, 16)",
      "                 ^",
      ""
     ]
    }
   ],
   "source": [
    "list1: List[Int] = List(1, 2, 3, 4, 5)\n",
    "list2: List[Int] = List(1, 2, 3, 4, 5)\n",
    "list3: List[Int] = List(1, 2, 3, 4, 5)\n",
    "list4: List[Int] = List(1, 3, 5)\n",
    "list5: List[Int] = List(1, 1, 1, 1, 1)\n",
    "list6: List[String] = List(Paco, Andres, Sonia, Maria)\n",
    "list7: List[Int] = List(0, 1, 4, 9, 16)"
   ]
  },
  {
   "cell_type": "code",
   "execution_count": 27,
   "metadata": {},
   "outputs": [
    {
     "data": {
      "text/plain": [
       "df: org.apache.spark.sql.DataFrame = [id: string, valor: double]\n"
      ]
     },
     "execution_count": 27,
     "metadata": {},
     "output_type": "execute_result"
    }
   ],
   "source": [
    "val df = Seq(\n",
    "    (\"uno\", 2.0),\n",
    "    (\"dos\", 1.5),\n",
    "    (\"tres\", 8.0)\n",
    "  ).toDF(\"id\", \"valor\")\n",
    "  "
   ]
  },
  {
   "cell_type": "code",
   "execution_count": 28,
   "metadata": {},
   "outputs": [
    {
     "name": "stdout",
     "output_type": "stream",
     "text": [
      "+----+-----+\n",
      "|  id|valor|\n",
      "+----+-----+\n",
      "| uno|  2.0|\n",
      "| dos|  1.5|\n",
      "|tres|  8.0|\n",
      "+----+-----+\n",
      "\n"
     ]
    }
   ],
   "source": [
    "df.show()"
   ]
  },
  {
   "cell_type": "code",
   "execution_count": null,
   "metadata": {},
   "outputs": [],
   "source": []
  },
  {
   "cell_type": "code",
   "execution_count": null,
   "metadata": {},
   "outputs": [],
   "source": []
  }
 ],
 "metadata": {
  "kernelspec": {
   "display_name": "spylon-kernel",
   "language": "scala",
   "name": "spylon-kernel"
  },
  "language_info": {
   "codemirror_mode": "text/x-scala",
   "file_extension": ".scala",
   "help_links": [
    {
     "text": "MetaKernel Magics",
     "url": "https://metakernel.readthedocs.io/en/latest/source/README.html"
    }
   ],
   "mimetype": "text/x-scala",
   "name": "scala",
   "pygments_lexer": "scala",
   "version": "0.4.1"
  }
 },
 "nbformat": 4,
 "nbformat_minor": 2
}
